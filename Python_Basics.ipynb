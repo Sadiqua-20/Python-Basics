{
  "nbformat": 4,
  "nbformat_minor": 0,
  "metadata": {
    "colab": {
      "provenance": []
    },
    "kernelspec": {
      "name": "python3",
      "display_name": "Python 3"
    },
    "language_info": {
      "name": "python"
    }
  },
  "cells": [
    {
      "cell_type": "markdown",
      "source": [
        "# **PYTHON BASICS QUESTIONS**"
      ],
      "metadata": {
        "id": "jGs_Q9TbYU-S"
      }
    },
    {
      "cell_type": "markdown",
      "source": [
        "##1. What is python and why is it popular?\n",
        "\n",
        "- Python is a programming language where by a programming language we mean a set of special rules and symbols that we use to give instructions to a computer to follow.\n",
        "   Python is popular because of the following reasons :\n",
        "    - **LIBRARIES** : Python has a lot of libraries(137000 and more).\n",
        "    - **EASY TO LEARN** : It is easy to learn beacause it's syntax is similar to english, which makes it easy to read, write and debug.\n",
        "    - **USE** : It is widely used in the data industry.\n",
        "    - **FREE** : Python software is free to download.\n",
        "    - **VERSATILE** : Python is a general-purpose language which can be used for many different types of program.\n",
        "\n",
        "    - **HAS A LARGE COMMUNITY** : Python has a large *active* community that\n",
        "constantly develops, improves, and expands the language."
      ],
      "metadata": {
        "id": "gpTPuHfjM0qY"
      }
    },
    {
      "cell_type": "markdown",
      "source": [
        "##2. What is an interpreter in Python?\n",
        "\n",
        "- An interpreter in Python is a program that reads and executes Python code line by line.\n",
        "   The interpreter translates the Python code into machine-readable (understandable) language bytecode and then executes this bytecode. And this process happens in real time because of which we can see the results immediately.\n",
        "   In simple words, a Python interpreter is a computer program that converts high-level program statement into machine code."
      ],
      "metadata": {
        "id": "VcnIWNwGUJQK"
      }
    },
    {
      "cell_type": "markdown",
      "source": [
        "##3. What are pre-defined keywords in Python?\n",
        "\n",
        "- Python pre-defined keywords are reserved words with pre-defined meanings and specific purpose that cannot be altered. Keywords have special meanings. They are used to define the syntax of the coding.\n",
        "\n",
        "- Following are the rules for keywords :\n",
        "  - Keywords cannot be used as identifiers, function, or variable names.\n",
        "  - All the keywords in Python are written in lowercase except True and False.\n",
        "\n",
        "- Here are keywords of Python :\n",
        "\n",
        "  ```\n",
        "  import keyword\n",
        "  print(keyword.kwlist)\n",
        "  ```\n",
        "  ```\n",
        "['False', 'None', 'True', 'and', 'as', 'assert', 'async', 'await', 'break', 'class', 'continue', 'def', 'del', 'elif', 'else', 'except', 'finally', 'for', 'from', 'global', 'if', 'import', 'in', 'is', 'lambda', 'nonlocal', 'not', 'or', 'pass', 'raise', 'return', 'try', 'while', 'with', 'yield']\n",
        "  ```\n",
        "\n",
        "\n",
        "      \n",
        "\n",
        "       "
      ],
      "metadata": {
        "id": "Fk8QxOsNYAfY"
      }
    },
    {
      "cell_type": "markdown",
      "source": [
        "## Q4. Can keywords be used as variable names?\n",
        "\n",
        "- No, keywords cannot be used as variable names because keywords define the language's syntax and structure and using keywords as variable names could lead to confusion and ambiguity about what the code is supposed to do. So a variable name cannot be any of the Python keywords. Instead, programmers generally choose to use names of variables that are meaningful to the human readers of the program to remember what the variable is used for."
      ],
      "metadata": {
        "id": "dJtNf2CbftUV"
      }
    },
    {
      "cell_type": "markdown",
      "source": [
        "## Q5. What is mutability in Python?\n",
        "\n",
        "- Objects (or containers) whose state or value can be changed after they have been created are called mutable objects(or containers) and this ability to change the value or state of an object(or container) after its creation is called mutability.\n",
        "- lists, dictionaries and sets are mutable objects in Python."
      ],
      "metadata": {
        "id": "3znD-1-BjMGX"
      }
    },
    {
      "cell_type": "markdown",
      "source": [
        "## Q6. Why are lists mutable, but tuples are immutable?"
      ],
      "metadata": {
        "id": "hCspAmRnxtts"
      }
    },
    {
      "cell_type": "code",
      "source": [
        "'''Lists are mutable because lists' elements (i.e., contents of list) can be altered or changed after their creation.\n",
        "But tuples are immutable as tuples' elements (i.e., contents of tuple) cannot be altered or changed once they are created.\n",
        "\n",
        "Following is an example which shows the mutability of lists and immutability of tuples'''\n",
        "\n",
        "\n",
        "''' Creating a list in Python'''\n",
        "_list = [ 1, 30, \"Sadiqua\", \"Maths\"]\n",
        "''' Creating a tuple in Python'''\n",
        "_tuple = (7, 37, \"PYTHON\")\n",
        "\n",
        "'''Changing an element in the created list.\n",
        "As list is mutable, it will be successful.'''\n",
        "_list[3] = \"Chemistry\"\n",
        "print(_list)\n",
        "\n",
        "'''Changing an element in the created tuple.\n",
        "This will throw an error as tuple is immutable.'''\n",
        "_tuple[1] = 42\n"
      ],
      "metadata": {
        "colab": {
          "base_uri": "https://localhost:8080/",
          "height": 193
        },
        "id": "txQikTiJ9GB6",
        "outputId": "a4de1949-eb14-47cb-acac-c5dba3257208"
      },
      "execution_count": 5,
      "outputs": [
        {
          "output_type": "stream",
          "name": "stdout",
          "text": [
            "[1, 30, 'Sadiqua', 'Chemistry']\n"
          ]
        },
        {
          "output_type": "error",
          "ename": "TypeError",
          "evalue": "'tuple' object does not support item assignment",
          "traceback": [
            "\u001b[0;31m---------------------------------------------------------------------------\u001b[0m",
            "\u001b[0;31mTypeError\u001b[0m                                 Traceback (most recent call last)",
            "\u001b[0;32m<ipython-input-5-7eb25422b6a5>\u001b[0m in \u001b[0;36m<cell line: 19>\u001b[0;34m()\u001b[0m\n\u001b[1;32m     17\u001b[0m '''Changing an element in the created tuple.\n\u001b[1;32m     18\u001b[0m This will throw an error as tuple is immutable.'''\n\u001b[0;32m---> 19\u001b[0;31m \u001b[0m_tuple\u001b[0m\u001b[0;34m[\u001b[0m\u001b[0;36m1\u001b[0m\u001b[0;34m]\u001b[0m \u001b[0;34m=\u001b[0m \u001b[0;36m42\u001b[0m\u001b[0;34m\u001b[0m\u001b[0;34m\u001b[0m\u001b[0m\n\u001b[0m",
            "\u001b[0;31mTypeError\u001b[0m: 'tuple' object does not support item assignment"
          ]
        }
      ]
    },
    {
      "cell_type": "markdown",
      "source": [
        "## Q7. What is the difference between \"==\" and \"is\" operators in Python?"
      ],
      "metadata": {
        "id": "EKc73CusxjpT"
      }
    },
    {
      "cell_type": "code",
      "source": [
        "''' The operator \"==\" is a comparison operator which is used to compare two values for whether they are equal or not.\n",
        "Comparison operators always return a boolean value. If the values are equal, \"==\" returns True; otherwise, it returns False.\n",
        "Here is an example :'''\n",
        "print(2==3)\n",
        "print(2==2)\n",
        "\n",
        "''' The operator \"is\" is an identity operator which is used to compare the memory locations of two objects(or variables) for whether they are same(equal) or not.\n",
        "In simple words, \"is\" operator checks whether two variables point to the same memory location. If they do, \"is\" returns True; otherwise, it returns False.\n",
        "Here is an example : '''\n",
        "a = 2\n",
        "b = 3\n",
        "c = a\n",
        "print( a is b)\n",
        "print(a is c)"
      ],
      "metadata": {
        "colab": {
          "base_uri": "https://localhost:8080/"
        },
        "id": "tf5A8JDP-sH3",
        "outputId": "c8ea47f3-5bd8-41d9-a8d7-14debc62dd39"
      },
      "execution_count": 3,
      "outputs": [
        {
          "output_type": "stream",
          "name": "stdout",
          "text": [
            "False\n",
            "True\n",
            "False\n",
            "True\n"
          ]
        }
      ]
    },
    {
      "cell_type": "markdown",
      "source": [
        "## Q8. What are logical operators in Python?\n",
        "   \n",
        "   - Logical operators in Python are operators used to combine conditional statements, allowing us to perform operations based on multiple conditions.\n",
        "   - Logical operators work on conditional statements, i.e., True or False.\n",
        "   - There are three logical operators- **and**, **or**, **not**.\n",
        "   - **and** peforms Logical AND, **or** performs Logical OR, and **not** performs Logical NOT.\n",
        "   - **and** returns True if both the operands are True otherwise False, **or** returns  True if any one of the operands is True otherwise False, and **not** gives the result True if the operand is False and vice-versa.\n",
        "   - Following is an example to show thw use of logical operators :\n",
        "\n",
        "     CODE :\n",
        "\n",
        "  ```\n",
        "    # DEMONSTRATING USE OF LOGICAL OPERATORS\n",
        "    a = 4\n",
        "    b = 15\n",
        "\n",
        "    # use of and operator\n",
        "    print(a < 5 and b > 10)\n",
        "    print(a < 5 and b < 10)\n",
        "\n",
        "    # use of or operator\n",
        "    print(a < 5 or b > 10)\n",
        "    print(a > 5 or b > 10)\n",
        "         \n",
        "    # use of not operator\n",
        "    print(not a < 5 )\n",
        "    print(not a > 5 )\n",
        "    ```\n",
        "     OUTPUT :\n",
        "\n",
        "     ```\n",
        "    True\n",
        "    False\n",
        "    True\n",
        "    True\n",
        "    False\n",
        "    True\n",
        "    ```\n",
        "\n",
        "\n",
        "         \n",
        "\n",
        "\n",
        "\n",
        "\n",
        "\n",
        "\n"
      ],
      "metadata": {
        "id": "7AgX_iVwDaTy"
      }
    },
    {
      "cell_type": "markdown",
      "source": [
        "## Q9. What is type casting in Python?\n",
        "\n",
        "   - In Python, type casting is a method to change the data type of a variable in order to perform certain required operations by users.\n",
        "   - Type casting is important in Python. This is because the **input** by-default takes every input value from user as string. So if we need to perform arithmetic calculations on values taken from user, we wouldn't be able to perform those on strings. Thus, type casting comes into action.\n",
        "   - There are two types of type casting in Python : Implicit typecasting and Explicit type casting.\n",
        "   - Following is an example demonstrating type casting :\n",
        "\n",
        "     CODE :\n",
        "\n",
        "      ```\n",
        "      a = 5              # a is int type\n",
        "      b = 1.709          # b is float type\n",
        "      c = True           # c is bool type\n",
        "      d = 4 + 9j         # d is complex type\n",
        "\n",
        "      # type casting a, b, c, d\n",
        "      print(float(a), type(float(a)))    # int to float\n",
        "      print(int(b), type(int(b)))      # float to int\n",
        "      print(str(c), type(str(c)))      # boolean to string\n",
        "      print(str(d), type(str(d)))      # complex to string\n",
        "      ```\n",
        "\n",
        "      OUTPUT :  \n",
        "\n",
        "      ```\n",
        "      5.0 <class 'float'>\n",
        "      1 <class 'int'>\n",
        "      True <class 'str'>\n",
        "      (4+9j) <class 'str'>\n",
        "      ```\n",
        "\n"
      ],
      "metadata": {
        "id": "nvoL5T15fMPg"
      }
    },
    {
      "cell_type": "markdown",
      "source": [
        "## Q10. What is the difference between implicit and explicit type casting?\n",
        "\n",
        "- ***IMPLICIT TYPE CASTING*** :\n",
        "  - In this type casting method, Python automatically converts the datatype into another datatype, without the involvement of users.\n",
        "\n",
        "  - This happens during operations involving mixed datatypes.\n",
        "\n",
        "  - Example :\n",
        "\n",
        "     ```\n",
        "    x = 4\n",
        "    y = 9.654\n",
        "    sum = x + y\n",
        "    print(sum)\n",
        "    ```\n",
        "\n",
        "     OUTPUT :\n",
        "      ```\n",
        "    13.654\n",
        "      ```\n",
        "\n",
        "- ***EXPLICIT TYPE CASTING*** :\n",
        "  - In this type casting method, converting the datatype is done explicitly by user(or programmer) using predefined functions like *int( )*,  *float( )*, *str( )*, *complex( )*, etc.\n",
        "\n",
        "  - Example :\n",
        "  \n",
        "       ```  \n",
        "    a = 5              # a is int type\n",
        "    b = 1.709          # b is float type\n",
        "    c = True           # c is bool type\n",
        "    d = 4 + 9j         # d is complex type\n",
        "\n",
        "    # type casting a, b, c, d EXPLICITLY\n",
        "    print(float(a), type(float(a)))    # int to float\n",
        "    print(int(b), type(int(b)))      # float to int\n",
        "    print(str(c), type(str(c)))      # boolean to string\n",
        "    print(str(d), type(str(d)))      # complex to string\n",
        "    ```\n",
        "\n",
        "     OUTPUT :  \n",
        "\n",
        "     ```\n",
        "    5.0 <class 'float'>\n",
        "    1 <class 'int'>\n",
        "    True <class 'str'>\n",
        "    (4+9j) <class 'str'>\n",
        "    ```\n",
        "\n",
        "\n",
        "\n",
        "\n",
        "\n",
        "    "
      ],
      "metadata": {
        "id": "1V8jZFyLh511"
      }
    },
    {
      "cell_type": "markdown",
      "source": [
        "## Q11. What is the purpose of conditional statements in Python?\n",
        "\n",
        "- Conditional statements in Python are used to execute certain blocks of code based on specific conditions.\n",
        "\n",
        "- They help to control the flow of a program and so helps to code decisions based on some pre-stated conditions.\n",
        "\n",
        "- There are 4 conditional statements :\n",
        "    1.  if\n",
        "    2.  if-else\n",
        "    3.  if-elif-else\n",
        "    4.  nested if-else\n",
        "\n",
        "- These statements are used to instruct the computer on decision to make when provided some conditions. These decisions are made if and only if the pre-stated conditions are either true or false, depending on the functions the programmer has in mind.   \n",
        "\n",
        "- Here is a simple example to understand the concept and purpose of conditional statements :\n",
        "         \n",
        "  ```\n",
        "  age = 15\n",
        "  if age >= 18 :\n",
        "      print(\"You are eligible for driving.\")\n",
        "  else :\n",
        "      print(\"You are not eligible for driving.\")\n",
        "  ```\n",
        "\n",
        "  OUTPUT :\n",
        "         \n",
        "  ```\n",
        "  You are not eligible for driving.\n",
        "  ```\n",
        "\n",
        "  \n",
        "\n"
      ],
      "metadata": {
        "id": "fK0-uhjewvGH"
      }
    },
    {
      "cell_type": "markdown",
      "source": [
        "## Q12. How does the elif statement work?\n",
        "\n",
        "- The elif statement in Python is used as part of a conditional structure to check multiple conditions. It stands for *else if*  and is used after an if statement to add additional conditions to test.\n",
        "\n",
        "- How It Works:\n",
        "  1.  The program evaluates the conditions in sequence:\n",
        "  2.  First, the if condition is checked.\n",
        "      - If the if condition is False, the elif condition is checked.\n",
        "  3.  If the elif condition is True, its code block is executed.\n",
        "  4.  If no if or elif conditions are True, the else block (if provided) runs as a fallback.\n",
        "\n",
        "  5.  Once a condition is found to be True, no other conditions are checked. The program exits the conditional structure.\n",
        "\n",
        "- Syntax :\n",
        "\n",
        "  ```\n",
        "  if condition1:\n",
        "      # Code to execute if condition1 is True\n",
        "  elif condition2:\n",
        "      # Code to execute if condition2 is True\n",
        "  elif condition3:\n",
        "      # Code to execute if condition3 is True\n",
        "  else:\n",
        "      # Code to execute if none of the conditions are True\n",
        " ```\n",
        "\n",
        "- Example :\n",
        "\n",
        "  ```\n",
        "  age = int(input(\"Enter your age: \"))\n",
        "  if age < 13:\n",
        "      print(\"You are a child.\")\n",
        "  elif age < 20:\n",
        "      print(\"You are a teenager.\")\n",
        "  elif age < 60:\n",
        "      print(\"You are an adult.\")\n",
        "  else:\n",
        "      print(\"You are a senior.\")\n",
        "  ```\n",
        "\n",
        "  OUTPUT :\n",
        "\n",
        "  ```\n",
        "  Enter your age: 24\n",
        "  You are an adult.\n",
        "  ```\n",
        "\n",
        "\n",
        "- Explanation of working of elif statement :\n",
        "  - The program asks the user to enter their age.\n",
        "  - It first checks if age < 13:\n",
        "    - If True, it prints \"You are a child\" and skips the rest of the conditions.\n",
        "  - If age < 13 is False, it checks elif age < 20:\n",
        "    - If True, it prints \"You are a teenager.\"\n",
        "  - This continues until one condition is True.\n",
        "  - If none of the conditions are True, the else block runs."
      ],
      "metadata": {
        "id": "k6nv6GTD4Ew_"
      }
    },
    {
      "cell_type": "markdown",
      "source": [
        "## Q13. What is the difference between for and while loops?\n",
        "\n",
        "- ***for LOOP*** :\n",
        "  - A *for* loop in Python is used to iterate over a sequence of items, such as lists, strings, tuples, range, etc.\n",
        "\n",
        "  - The loop will execute a block of statements for each item in the sequence.\n",
        "\n",
        "  - In for loop, the number of iterations is already known in advance.\n",
        "\n",
        "  - Syntax :\n",
        "             \n",
        "      ```\n",
        "      for var in iterable :\n",
        "          # statements\n",
        "      ```\n",
        "  where for is a keyword, var is the variable name, and iterable is an object which can be looped over.\n",
        "\n",
        "  - Example : In the following example, we use for loop to iterate through the range (1,20,2) in order to print all the odd numbers from 1 and 20.\n",
        "             \n",
        "      ```\n",
        "      for i in range(1,20,2):\n",
        "          print(i)\n",
        "      ```\n",
        "      \n",
        "     OUTPUT :     \n",
        "\n",
        "      ```\n",
        "      1\n",
        "      3\n",
        "      5\n",
        "      7\n",
        "      9\n",
        "      11\n",
        "      13\n",
        "      15\n",
        "      17\n",
        "      19\n",
        "      ```\n",
        "\n",
        "\n",
        "\n",
        "- ***while LOOP*** :\n",
        "  - A while loop in Python is used to repeatedly execute a block of statements while a condition is true.\n",
        "\n",
        "  - The loop will continue as long as the condition is true and when the condition is false, the while loop stops iterating.\n",
        "\n",
        "  - In while loop, we may not know how many times it will loop beforehand.\n",
        "\n",
        "  - Syntax :\n",
        "    \n",
        "     ```\n",
        "     while condition:\n",
        "         # set of statements\n",
        "     ```\n",
        "      where while is a keyword.\n",
        "\n",
        "  - Example : In the following example, we use while loop in order to print whole numbers upto 10, noting that we do not use any sequence here unlike for loop.\n",
        "\n",
        "     ```\n",
        "     i = 0\n",
        "     while i <= 10:\n",
        "         print(i)\n",
        "         i = i+1\n",
        "     ```\n",
        "\n",
        "   OUTPUT :\n",
        "\n",
        "   ```\n",
        "    0\n",
        "    1\n",
        "    2\n",
        "    3\n",
        "    4\n",
        "    5\n",
        "    6\n",
        "    7\n",
        "    8\n",
        "    9\n",
        "    10\n",
        "   ```\n",
        "\n",
        "\n",
        "        "
      ],
      "metadata": {
        "id": "Ew-Jb6As8vfz"
      }
    },
    {
      "cell_type": "markdown",
      "source": [
        "## Q14. Describe a scenario where a while loop is more suitable than a for loop.\n",
        "\n",
        "- In Python, a while loop is more suitable than a for loop when we do not exactly know the number of iterations, i.e., when we need to continue looping until a specific condition is met, rather than a set number of times.\n",
        "\n",
        "- This is because in while loop, we may not know how many times it will loop beforehand but in for loop, the number of iterations is already known in advance.\n",
        "\n",
        "- Scenario :    \n",
        "\n",
        "  ```\n",
        "  # Using a while loop to repeat until the user says \"yes\"\n",
        "  answer = \"\"\n",
        "  while answer != \"yes\":  # Loop until the user types \"yes\"\n",
        "      answer = input(\"Do you want to continue? (type 'yes' to stop): \")\n",
        "\n",
        "  print(\"Thank you! Program ended.\")\n",
        "  ```\n",
        "  \n",
        "  OUTPUT :\n",
        "\n",
        "  ```\n",
        "  Do you want to continue? (type 'yes' to stop): no\n",
        "  Do you want to continue? (type 'yes' to stop): not sure\n",
        "  Do you want to continue? (type 'yes' to stop): maybe\n",
        "  Do you want to continue? (type 'yes' to stop):\n",
        "  Do you want to continue? (type 'yes' to stop): yes\n",
        "  Thank you! Program ended.\n",
        "  ```\n",
        "In the given example, we don’t know how many times the user will provide input before typing \"yes\".  A for loop requires a predefined range or sequence, making it unsuitable here."
      ],
      "metadata": {
        "id": "lYT8R0RwFYm1"
      }
    },
    {
      "cell_type": "markdown",
      "source": [
        "# **PRACTICAL QUESTIONS**"
      ],
      "metadata": {
        "id": "sbJeUwaAlMUM"
      }
    },
    {
      "cell_type": "markdown",
      "source": [],
      "metadata": {
        "id": "Cu5v-aUCljPn"
      }
    },
    {
      "cell_type": "code",
      "source": [
        "# Q1. Write a Python program to print \"Hello, World!\"\n",
        "\n",
        "print('\"Hello, World!\"')"
      ],
      "metadata": {
        "colab": {
          "base_uri": "https://localhost:8080/"
        },
        "id": "HZMMELnllmVo",
        "outputId": "21a175af-519e-42f9-86bd-b1e555f6a1ff"
      },
      "execution_count": null,
      "outputs": [
        {
          "output_type": "stream",
          "name": "stdout",
          "text": [
            "\"Hello, World!\"\n"
          ]
        }
      ]
    },
    {
      "cell_type": "code",
      "source": [
        "# Q2. Write a Python program that displays your name and age.\n",
        "\n",
        "name = input(\"Enter name : \")\n",
        "age = input(\"Enter age : \")\n",
        "print(name)\n",
        "print(age)"
      ],
      "metadata": {
        "colab": {
          "base_uri": "https://localhost:8080/"
        },
        "id": "82192YYOmlY5",
        "outputId": "c4633ea8-ec91-46d8-c6de-44bbf9bbe7d3"
      },
      "execution_count": null,
      "outputs": [
        {
          "output_type": "stream",
          "name": "stdout",
          "text": [
            "Enter name : Sadiqua \n",
            "Enter age : 24\n",
            "Sadiqua \n",
            "24\n"
          ]
        }
      ]
    },
    {
      "cell_type": "code",
      "source": [
        "# Q3. Write a code to print all the pre-defined keywords in Python using the keyword library.\n",
        "\n",
        "import keyword\n",
        "print(keyword.kwlist)"
      ],
      "metadata": {
        "colab": {
          "base_uri": "https://localhost:8080/"
        },
        "id": "VfCTUFRWo-rq",
        "outputId": "9a4632dc-6e42-4699-b6ed-d6eac8e4e26f"
      },
      "execution_count": null,
      "outputs": [
        {
          "output_type": "stream",
          "name": "stdout",
          "text": [
            "['False', 'None', 'True', 'and', 'as', 'assert', 'async', 'await', 'break', 'class', 'continue', 'def', 'del', 'elif', 'else', 'except', 'finally', 'for', 'from', 'global', 'if', 'import', 'in', 'is', 'lambda', 'nonlocal', 'not', 'or', 'pass', 'raise', 'return', 'try', 'while', 'with', 'yield']\n"
          ]
        }
      ]
    },
    {
      "cell_type": "code",
      "source": [
        "# Q4. Write a program that checks if a given word is a Python keyword.\n",
        "\n",
        "import keyword\n",
        "word = input(\"Enter a word : \")\n",
        "if word in keyword.kwlist:\n",
        "  print(f\" {word} is a Python keyword.\")\n",
        "else:\n",
        "  print(f\" {word} is not a Python keyword.\")"
      ],
      "metadata": {
        "colab": {
          "base_uri": "https://localhost:8080/"
        },
        "id": "Md4qTXIUtttP",
        "outputId": "8cb3ed6d-3385-4000-8551-a30cfcdd4ed0"
      },
      "execution_count": null,
      "outputs": [
        {
          "output_type": "stream",
          "name": "stdout",
          "text": [
            "Enter a word : for\n",
            " for is a Python keyword.\n"
          ]
        }
      ]
    },
    {
      "cell_type": "code",
      "source": [
        "# Q5. Create a list and tuple in Python, and demonstrate how attempting to change an element works differently for each.\n",
        "\n",
        "''' Creating a list in Python'''\n",
        "_list = [ 1, 30, \"Sadiqua\", \"Maths\"]\n",
        "''' Creating a tuple in Python'''\n",
        "_tuple = (7, 37, \"PYTHON\")\n",
        "\n",
        "'''Changing an element in the created list.\n",
        "As list is mutable, it will be successful.'''\n",
        "_list[3] = \"Chemistry\"\n",
        "print(_list)\n",
        "\n",
        "'''Changing an element in the created tuple.\n",
        "This will throw an error as tuple is immutable.'''\n",
        "_tuple[1] = 42\n"
      ],
      "metadata": {
        "id": "lieaXCmEwAPB",
        "colab": {
          "base_uri": "https://localhost:8080/",
          "height": 193
        },
        "outputId": "91659c44-8969-4859-c812-85003a4ea158"
      },
      "execution_count": null,
      "outputs": [
        {
          "output_type": "stream",
          "name": "stdout",
          "text": [
            "[1, 30, 'Sadiqua', 'Chemistry']\n"
          ]
        },
        {
          "output_type": "error",
          "ename": "TypeError",
          "evalue": "'tuple' object does not support item assignment",
          "traceback": [
            "\u001b[0;31m---------------------------------------------------------------------------\u001b[0m",
            "\u001b[0;31mTypeError\u001b[0m                                 Traceback (most recent call last)",
            "\u001b[0;32m<ipython-input-26-cb0b71c55f6b>\u001b[0m in \u001b[0;36m<cell line: 15>\u001b[0;34m()\u001b[0m\n\u001b[1;32m     13\u001b[0m '''Changing an element in the created tuple.\n\u001b[1;32m     14\u001b[0m This will throw an error as tuple is immutable.'''\n\u001b[0;32m---> 15\u001b[0;31m \u001b[0m_tuple\u001b[0m\u001b[0;34m[\u001b[0m\u001b[0;36m1\u001b[0m\u001b[0;34m]\u001b[0m \u001b[0;34m=\u001b[0m \u001b[0;36m42\u001b[0m\u001b[0;34m\u001b[0m\u001b[0;34m\u001b[0m\u001b[0m\n\u001b[0m",
            "\u001b[0;31mTypeError\u001b[0m: 'tuple' object does not support item assignment"
          ]
        }
      ]
    },
    {
      "cell_type": "code",
      "source": [
        "# Q6. Write a function to demonstrate the behaviour of mutable and immutable arguments.\n",
        "\n",
        "def modify_mutable(lst):\n",
        "    lst.append(10)  # Modify the original object\n",
        "    print(\"Inside function (mutable):\", lst)\n",
        "\n",
        "def modify_immutable(x):\n",
        "    x = x + 1  # Change a copy of the value\n",
        "    print(\"Inside function (immutable):\", x)\n",
        "\n",
        "# Mutable example\n",
        "my_list = [1, 2, 3]\n",
        "print(\"Before function call (mutable):\", my_list)\n",
        "modify_mutable(my_list)\n",
        "print(\"After function call (mutable):\", my_list)\n",
        "\n",
        "print()  # Just for separation\n",
        "\n",
        "# Immutable example\n",
        "num = 5\n",
        "print(\"Before function call (immutable):\", num)\n",
        "modify_immutable(num)\n",
        "print(\"After function call (immutable):\", num)"
      ],
      "metadata": {
        "id": "Q4i2ZwrcwFRy",
        "colab": {
          "base_uri": "https://localhost:8080/"
        },
        "outputId": "8188fa86-864b-40b9-e90f-4a4b3405daf9"
      },
      "execution_count": 10,
      "outputs": [
        {
          "output_type": "stream",
          "name": "stdout",
          "text": [
            "Before function call (mutable): [1, 2, 3]\n",
            "Inside function (mutable): [1, 2, 3, 10]\n",
            "After function call (mutable): [1, 2, 3, 10]\n",
            "\n",
            "Before function call (immutable): 5\n",
            "Inside function (immutable): 6\n",
            "After function call (immutable): 5\n"
          ]
        }
      ]
    },
    {
      "cell_type": "code",
      "source": [
        "# Q7. Write a function to demonstrate the behaviour of mutable and immutable arguments.\n",
        "\n",
        "def modify_mutable(lst):\n",
        "    lst.append(10)  # Modify the original object\n",
        "    print(\"Inside function (mutable):\", lst)\n",
        "\n",
        "def modify_immutable(x):\n",
        "    x = x + 1  # Change a copy of the value\n",
        "    print(\"Inside function (immutable):\", x)\n",
        "\n",
        "\n",
        "# Mutable example\n",
        "my_list = [1, 2, 3, 4, 5]\n",
        "print(\"Before function call (mutable):\", my_list)\n",
        "modify_mutable(my_list)\n",
        "print(\"After function call (mutable):\", my_list)\n",
        "\n",
        "print()  # Just for separation\n",
        "\n",
        "# Immutable example\n",
        "num = 7\n",
        "print(\"Before function call (immutable):\", num)\n",
        "modify_immutable(num)\n",
        "print(\"After function call (immutable):\", num)"
      ],
      "metadata": {
        "id": "uH2Lm4ckwLbi",
        "colab": {
          "base_uri": "https://localhost:8080/"
        },
        "outputId": "5e5257d0-060d-4246-c3f8-10e90f67a97a"
      },
      "execution_count": 9,
      "outputs": [
        {
          "output_type": "stream",
          "name": "stdout",
          "text": [
            "Before function call (mutable): [1, 2, 3, 4, 5]\n",
            "Inside function (mutable): [1, 2, 3, 4, 5, 10]\n",
            "After function call (mutable): [1, 2, 3, 4, 5, 10]\n",
            "\n",
            "Before function call (immutable): 7\n",
            "Inside function (immutable): 8\n",
            "After function call (immutable): 7\n"
          ]
        }
      ]
    },
    {
      "cell_type": "code",
      "source": [
        "# Q8. Write a program to demonstrate the use of logical operators.\n",
        "\n",
        "''' Logical operators are used to check whether an expression is True or False.\n",
        "       There are three logical operators : and, or, and not.\n",
        "       \"and\" gives the result True if both the operands are True otherwise False,\n",
        "       \"or\" gives the result True if any one of the operands is True otherwise False, and\n",
        "       \"not\" gives the result True if the operand is False and vice-versa.'''\n",
        "\n",
        "''' Below is a program that demonstrates the use of \"and\", \"or\" and \"not\" '''\n",
        "\n",
        "p = float(input(\"Enter score of Mathematics : \"))\n",
        "q = float(input(\"Enter score of Physics : \"))\n",
        "if p >= 90 and q >= 90 :\n",
        "  print(\" You achieved a BRILLIANT score.\")\n",
        "\n",
        "if p < 90 and q < 90 :\n",
        "  print(\"You need improvement.\")\n",
        "\n",
        "if p < 90 or q > 90 :\n",
        "  print(\"You are good, need a small improvement.\")\n",
        "\n",
        "if p > 90 or q < 90 :\n",
        "  print(\"You are good, need a small improvement.\")\n",
        "\n",
        "X = not p\n",
        "Y = not q\n",
        "print(f\"not of mathematics score is {X} and not of physics score is {Y}\")\n"
      ],
      "metadata": {
        "id": "-x3-Lq-cwNKD",
        "colab": {
          "base_uri": "https://localhost:8080/"
        },
        "outputId": "af7b044d-0ea6-4d65-c341-4e746652d9f8"
      },
      "execution_count": null,
      "outputs": [
        {
          "output_type": "stream",
          "name": "stdout",
          "text": [
            "Enter score of Mathematics : 95\n",
            "Enter score of Physics : 78\n",
            "You are good, need a small improvement.\n",
            "not of mathematics score is False and not of physics score is False\n"
          ]
        }
      ]
    },
    {
      "cell_type": "code",
      "source": [
        "# Q9. Write a Python program to convert user input from string to integer, float, and boolean types.\n",
        "\n",
        "x = input(\"Enter a number : \")\n",
        "print(f\" Type of your number is {type(x)}\")\n",
        "a = int(x)\n",
        "b = float(x)\n",
        "c = bool(x)\n",
        "print(a, type(a))\n",
        "print(b, type(b))\n",
        "print(c, type(c))\n"
      ],
      "metadata": {
        "id": "x0BKE1s5wVkT",
        "colab": {
          "base_uri": "https://localhost:8080/"
        },
        "outputId": "b8fc2235-c38a-4ed7-ffb2-e8c7fd8c1cec"
      },
      "execution_count": null,
      "outputs": [
        {
          "output_type": "stream",
          "name": "stdout",
          "text": [
            "Enter a number : 67\n",
            " Type of your number is <class 'str'>\n",
            "67 <class 'int'>\n",
            "67.0 <class 'float'>\n",
            "True <class 'bool'>\n"
          ]
        }
      ]
    },
    {
      "cell_type": "code",
      "source": [
        "# Q10. Write code to demonstrate type casting with list elements.\n",
        "\n",
        "''' Creating a list with mixed data types'''\n",
        "list_1 = [ \"1\", 2, 3.4, 5+6j, True]\n",
        "\n",
        "''' Checking type of elements of list_1'''\n",
        "print(f\" type of {list_1[0]} is {type(list_1[0])} \")\n",
        "print(f\" type of {list_1[1]} is {type(list_1[1])} \")\n",
        "print(f\" type of {list_1[2]} is {type(list_1[2])} \")\n",
        "print(f\" type of {list_1[3]} is {type(list_1[3])} \")\n",
        "print(f\" type of {list_1[4]} is {type(list_1[4])} \")\n",
        "\n",
        "''' Type casting elements of list_1 '''\n",
        "a = int(list_1[0])  ## string to int\n",
        "b = float(list_1[0])  ## string to float\n",
        "c = bool(list_1[0])  ## string to boolean\n",
        "d = complex(list_1[0]) ## string to complex\n",
        "\n",
        "e = str(list_1[1]) ## integer to string\n",
        "f = float(list_1[1]) ## integer to float\n",
        "g = complex(list_1[1]) ## integer to complex\n",
        "h = bool(list_1[1]) ## integer to boolean\n",
        "\n",
        "i = str(list_1[2]) ## float to string\n",
        "j = int(list_1[2]) ## float to integer\n",
        "k = complex(list_1[2]) ## float to complex\n",
        "l = bool(list_1[2]) ## float to boolean\n",
        "\n",
        "m = str(list_1[3])  ## complex to string\n",
        "\n",
        "n = str(list_1[4])  ## boolean to string\n",
        "\n",
        "''' Checking type of after type casting '''\n",
        "print(f\" type of {a} is {type(a)}. \")\n",
        "print(f\" type of {b} is {type(b)}. \")\n",
        "print(f\" type of {c} is {type(c)}. \")\n",
        "print(f\" type of {d} is {type(d)}. \")\n",
        "\n",
        "print(f\" type of {e} is {type(e)}. \")\n",
        "print(f\" type of {f} is {type(f)}. \")\n",
        "print(f\" type of {g} is {type(g)}. \")\n",
        "print(f\" type of {h} is {type(h)}. \")\n",
        "\n",
        "print(f\" type of {i} is {type(i)}. \")\n",
        "print(f\" type of {j} is {type(j)}. \")\n",
        "print(f\" type of {k} is {type(k)}. \")\n",
        "print(f\" type of {l} is {type(l)}. \")\n",
        "\n",
        "print(f\" type of {m} is {type(m)}. \")\n",
        "\n",
        "print(f\" type of {n} is {type(n)}. \")"
      ],
      "metadata": {
        "id": "cY7tZUygwWIc",
        "colab": {
          "base_uri": "https://localhost:8080/"
        },
        "outputId": "19770a97-8860-49c0-cfd8-92b6805c440e"
      },
      "execution_count": null,
      "outputs": [
        {
          "output_type": "stream",
          "name": "stdout",
          "text": [
            " type of 1 is <class 'str'> \n",
            " type of 2 is <class 'int'> \n",
            " type of 3.4 is <class 'float'> \n",
            " type of (5+6j) is <class 'complex'> \n",
            " type of True is <class 'bool'> \n",
            " type of 1 is <class 'int'>. \n",
            " type of 1.0 is <class 'float'>. \n",
            " type of True is <class 'bool'>. \n",
            " type of (1+0j) is <class 'complex'>. \n",
            " type of 2 is <class 'str'>. \n",
            " type of 2.0 is <class 'float'>. \n",
            " type of (2+0j) is <class 'complex'>. \n",
            " type of True is <class 'bool'>. \n",
            " type of 3.4 is <class 'str'>. \n",
            " type of 3 is <class 'int'>. \n",
            " type of (3.4+0j) is <class 'complex'>. \n",
            " type of True is <class 'bool'>. \n",
            " type of (5+6j) is <class 'str'>. \n",
            " type of True is <class 'str'>. \n"
          ]
        }
      ]
    },
    {
      "cell_type": "code",
      "source": [
        "# Q11. Write a program that checks if a number is positive negative or zero.\n",
        "\n",
        "num = float(input(\"Enter a number of your choice : \"))\n",
        "if (num > 0):\n",
        "  print(f\" {num} is a positive number.\")\n",
        "elif (num < 0):\n",
        "  print(f\" {num} is a negative number.\")\n",
        "else:\n",
        "            print(f\" {num} is zero.\")"
      ],
      "metadata": {
        "colab": {
          "base_uri": "https://localhost:8080/"
        },
        "id": "BHb5ypGjwWhM",
        "outputId": "1d81c83b-ef80-4c9d-e6b4-6c2982e81cf5"
      },
      "execution_count": null,
      "outputs": [
        {
          "output_type": "stream",
          "name": "stdout",
          "text": [
            "Enter a number of your choice : -5\n",
            " -5.0 is a negative number.\n"
          ]
        }
      ]
    },
    {
      "cell_type": "code",
      "source": [
        "# Q12. Write a for loop to print numbers from 1 to 10.\n",
        "\n",
        "for i in range(1,11):\n",
        "  print(i)\n",
        "  i=i+1\n"
      ],
      "metadata": {
        "colab": {
          "base_uri": "https://localhost:8080/"
        },
        "id": "cCEYKGg9yWTb",
        "outputId": "79407b76-512b-4bcd-ab3e-b16cca610897"
      },
      "execution_count": null,
      "outputs": [
        {
          "output_type": "stream",
          "name": "stdout",
          "text": [
            "1\n",
            "2\n",
            "3\n",
            "4\n",
            "5\n",
            "6\n",
            "7\n",
            "8\n",
            "9\n",
            "10\n"
          ]
        }
      ]
    },
    {
      "cell_type": "code",
      "source": [
        "# Q13. Write a Python program to find the sum of all even numbers between 1 and 50.\n",
        "\n",
        "sum = 0\n",
        "for i in range(1,51):\n",
        "  if i%2==0 :\n",
        "    sum+=i\n",
        "print(f\" The sum of all even numbers between 1 and 50 is {sum} \")\n"
      ],
      "metadata": {
        "colab": {
          "base_uri": "https://localhost:8080/"
        },
        "id": "ZYQq6kYZ0Lxa",
        "outputId": "46aaed1e-ab33-4927-ceec-f41bcf3fcb95"
      },
      "execution_count": null,
      "outputs": [
        {
          "output_type": "stream",
          "name": "stdout",
          "text": [
            " The sum of all even numbers between 1 and 50 is 650 \n"
          ]
        }
      ]
    },
    {
      "cell_type": "code",
      "source": [
        "# Q14. Write a program to reverse a string using a while loop.\n",
        "\n",
        "''' Taking input from user '''\n",
        "string = str(input(\"Enter a word(string) : \"))\n",
        "\n",
        "i = len(string) - 1\n",
        "\n",
        "''' Using while loop '''\n",
        "while i >= 0 :\n",
        "  print(string[i], end = '')\n",
        "  i = i - 1\n"
      ],
      "metadata": {
        "id": "qeD-t8R46VKz",
        "colab": {
          "base_uri": "https://localhost:8080/"
        },
        "outputId": "95242f47-bfd3-45bd-dfa0-9d97f5e5e076"
      },
      "execution_count": null,
      "outputs": [
        {
          "output_type": "stream",
          "name": "stdout",
          "text": [
            "Enter a word(string) : Sadiqua\n",
            "auqidaS"
          ]
        }
      ]
    },
    {
      "cell_type": "code",
      "source": [
        "# Q15. Write a Python program to calculate the factorial of a number provided by the user using a while loop.\n",
        "\n",
        "number = int(input(\"Enter a number : \"))\n",
        "num = number\n",
        "fact = 1\n",
        "if num < 0 :\n",
        "  print(\"Factorial of negative numbers does not exist.\")\n",
        "elif num == 0 :\n",
        "  print(\"Factorial of 0 is 1.\")\n",
        "else :\n",
        "  while num >= 1 :\n",
        "    fact *= num\n",
        "    num -= 1\n",
        "  print(f\" Factorial of {number} is {fact} \")"
      ],
      "metadata": {
        "colab": {
          "base_uri": "https://localhost:8080/"
        },
        "id": "y61gr-aj0L3S",
        "outputId": "573fea32-c316-4f0e-d27d-695f1d45742f"
      },
      "execution_count": 2,
      "outputs": [
        {
          "output_type": "stream",
          "name": "stdout",
          "text": [
            "Enter a number : 5\n",
            " Factorial of 5 is 120 \n"
          ]
        }
      ]
    }
  ]
}